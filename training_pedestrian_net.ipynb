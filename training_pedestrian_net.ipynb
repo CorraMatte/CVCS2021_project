{
  "cells": [
    {
      "cell_type": "markdown",
      "source": [
        "Per prima cosa, caricare i file engine, coco_eval coco_utils, transforms e utils.\n",
        "Caricare il file zip contentente il dataset PennFudan"
      ],
      "metadata": {
        "id": "zm1oBKJlWMxp"
      }
    },
    {
      "cell_type": "code",
      "execution_count": null,
      "metadata": {
        "colab": {
          "base_uri": "https://localhost:8080/"
        },
        "id": "tJARB4k5tn7u",
        "outputId": "bce96d12-c513-4bea-9051-d8c646477df6"
      },
      "outputs": [
        {
          "name": "stdout",
          "output_type": "stream",
          "text": [
            "Done\n"
          ]
        }
      ],
      "source": [
        "from zipfile import ZipFile\n",
        "\n",
        "with ZipFile('/content/PennFudanPed.zip', 'r') as zip:\n",
        "  zip.extractall()\n",
        "  print('Done')"
      ]
    },
    {
      "cell_type": "code",
      "execution_count": null,
      "metadata": {
        "colab": {
          "background_save": true
        },
        "id": "mTgWtixZTs3X"
      },
      "outputs": [],
      "source": [
        "import os\n",
        "import numpy as np\n",
        "import torch\n",
        "import torch.utils.data\n",
        "from PIL import Image\n",
        "import torchvision.transforms as T\n",
        "\n",
        "class PennFudanDataset(torch.utils.data.Dataset):\n",
        "    def __init__(self, root, transforms=None):\n",
        "        self.root = root\n",
        "        self.transforms = transforms\n",
        "        self.imgs = list(sorted(os.listdir(os.path.join(root, \"PNGImages\"))))\n",
        "        self.masks = list(sorted(os.listdir(os.path.join(root, \"PedMasks\"))))\n",
        "\n",
        "\n",
        "    def __getitem__(self, idx):\n",
        "        img_path = os.path.join(self.root, \"PNGImages\", self.imgs[idx])\n",
        "        mask_path = os.path.join(self.root, \"PedMasks\", self.masks[idx])\n",
        "        img = Image.open(img_path).convert(\"RGB\")\n",
        "        mask = Image.open(mask_path)\n",
        "        mask = np.array(mask)\n",
        "        obj_ids = np.unique(mask)\n",
        "        obj_ids = obj_ids[1:]\n",
        "        masks = mask == obj_ids[:, None, None]\n",
        "        num_objs = len(obj_ids)\n",
        "        boxes = []\n",
        "        for i in range(num_objs):\n",
        "            pos = np.where(masks[i])\n",
        "            xmin = np.min(pos[1])\n",
        "            xmax = np.max(pos[1])\n",
        "            ymin = np.min(pos[0])\n",
        "            ymax = np.max(pos[0])\n",
        "            boxes.append([xmin, ymin, xmax, ymax])\n",
        "\n",
        "        boxes = torch.as_tensor(boxes, dtype=torch.float32)\n",
        "        labels = torch.ones((num_objs,), dtype=torch.int64)\n",
        "        masks = torch.as_tensor(masks, dtype=torch.uint8)\n",
        "\n",
        "        image_id = torch.tensor([idx])\n",
        "        area = (boxes[:, 3] - boxes[:, 1]) * (boxes[:, 2] - boxes[:, 0])\n",
        "        iscrowd = torch.zeros((num_objs,), dtype=torch.int64)\n",
        "\n",
        "        target = {}\n",
        "        target[\"boxes\"] = boxes\n",
        "        target[\"labels\"] = labels\n",
        "        target[\"masks\"] = masks\n",
        "        target[\"image_id\"] = image_id\n",
        "        target[\"area\"] = area\n",
        "        target[\"iscrowd\"] = iscrowd\n",
        "\n",
        "        if self.transforms is not None:\n",
        "           img, target = self.transforms(img, target)\n",
        "        \n",
        "        return img, target\n",
        "\n",
        "    def __len__(self):\n",
        "        return len(self.imgs)"
      ]
    },
    {
      "cell_type": "code",
      "execution_count": null,
      "metadata": {
        "id": "jyKw6OMWXD5G"
      },
      "outputs": [],
      "source": [
        "import torch\n",
        "from torch import nn\n",
        "\n",
        "\n",
        "class Classifier(nn.Module):\n",
        "    def __init__(self, input_channel, num_classes):\n",
        "        super(Classifier, self).__init__()\n",
        "        # Conf 1\n",
        "        # classification layers (for scores)\n",
        "        # self.classification = nn.Sequential(\n",
        "        #     nn.Linear(input_channel, 10),\n",
        "        #     nn.ReLU(),\n",
        "        #     nn.Linear(10, 5),\n",
        "        #     nn.ReLU(),\n",
        "        #     nn.Linear(5, 2)\n",
        "        # )\n",
        "        # regression layers (for bounding boxes)\n",
        "        # self.regression = nn.Sequential(\n",
        "        #     nn.Linear(input_channel, 10),\n",
        "        #     nn.ReLU(),\n",
        "        #     nn.Linear(10, 5),\n",
        "        #     nn.ReLU(),\n",
        "        #     nn.Linear(5, num_classes * 4)\n",
        "        # )\n",
        "\n",
        "        # Conf 2\n",
        "        # classification layers (for scores)\n",
        "        self.classification = nn.Sequential(\n",
        "            nn.Linear(input_channel, 20),\n",
        "            nn.ReLU(),\n",
        "            nn.Linear(20, 15),\n",
        "            nn.ReLU(),\n",
        "            nn.Linear(15, 10),\n",
        "            nn.ReLU(),\n",
        "            nn.Linear(10, 5),\n",
        "            nn.ReLU(),\n",
        "            nn.Linear(5, 2)\n",
        "        )\n",
        "        self.regression = nn.Sequential(\n",
        "            nn.Linear(input_channel, 20),\n",
        "            nn.ReLU(),\n",
        "            nn.Linear(20, 15),\n",
        "            nn.ReLU(),\n",
        "            nn.Linear(15, 10),\n",
        "            nn.ReLU(),\n",
        "            nn.Linear(10, 5),\n",
        "            nn.ReLU(),\n",
        "            nn.Linear(5, num_classes * 4)\n",
        "        )\n",
        "\n",
        "    def forward(self, x):\n",
        "        x = x.flatten(start_dim=1)\n",
        "        scores = self.classification(x)\n",
        "        bbox_coord = self.regression(x)\n",
        "        # print('SCORES', scores, scores.shape)\n",
        "        # print('BBOX_COORD', bbox_coord, bbox_coord.shape)\n",
        "        return scores, bbox_coord"
      ]
    },
    {
      "cell_type": "code",
      "execution_count": null,
      "metadata": {
        "id": "YjNHjVMOyYlH"
      },
      "outputs": [],
      "source": [
        "import torchvision\n",
        "from torchvision.models.detection.faster_rcnn import FastRCNNPredictor\n",
        "      \n",
        "def get_model(num_classes):\n",
        "    model = torchvision.models.detection.fasterrcnn_resnet50_fpn(pretrained=True)\n",
        "    in_features = model.roi_heads.box_predictor.cls_score.in_features\n",
        "    model.roi_heads.box_predictor = Classifier(in_features, num_classes)\n",
        "    return model"
      ]
    },
    {
      "cell_type": "code",
      "execution_count": null,
      "metadata": {
        "id": "l79ivkwKy357"
      },
      "outputs": [],
      "source": [
        "from engine import train_one_epoch, evaluate\n",
        "import utils\n",
        "# import transforms as T\n",
        "import torchvision.transforms as T\n",
        "\n",
        "def get_transform(train):\n",
        "    transforms = []  \n",
        "    transforms.append(T.ToTensor())\n",
        "    if train:\n",
        "       transforms.append(T.RandomHorizontalFlip(0.5))\n",
        "    return T.Compose(transforms)"
      ]
    },
    {
      "cell_type": "code",
      "execution_count": null,
      "metadata": {
        "id": "a5dGaIezze3y"
      },
      "outputs": [],
      "source": [
        "dataset = PennFudanDataset('PennFudanPed', get_transform(train=True))\n",
        "dataset_test = PennFudanDataset('PennFudanPed', get_transform(train=False))\n",
        "\n",
        "torch.manual_seed(1)\n",
        "indices = torch.randperm(len(dataset)).tolist()\n",
        "dataset = torch.utils.data.Subset(dataset, indices[:-50])\n",
        "dataset_test = torch.utils.data.Subset(dataset_test, indices[-50:])\n",
        "\n",
        "data_loader = torch.utils.data.DataLoader(\n",
        "    dataset, batch_size=2, shuffle=True, num_workers=2,\n",
        "    collate_fn=utils.collate_fn)\n",
        "\n",
        "data_loader_test = torch.utils.data.DataLoader(\n",
        "    dataset_test, batch_size=1, shuffle=False, num_workers=2,\n",
        "    collate_fn=utils.collate_fn)"
      ]
    },
    {
      "cell_type": "code",
      "execution_count": null,
      "metadata": {
        "id": "zoenkCj18C4h"
      },
      "outputs": [],
      "source": [
        "device = torch.device('cuda') if torch.cuda.is_available() else torch.device('cpu')\n",
        "\n",
        "# two classes - background and person\n",
        "num_classes = 2\n",
        "\n",
        "model = get_model(num_classes)\n",
        "model.to(device)\n",
        "\n",
        "params = [p for p in model.parameters() if p.requires_grad]\n",
        "optimizer = torch.optim.SGD(params, lr=0.005,\n",
        "                            momentum=0.9, weight_decay=0.0005)\n",
        "# optimizer = torch.optim.ADAM(params, lr=0.005,\n",
        "#                            momentum=0.9, weight_decay=0.0005)\n",
        "\n",
        "lr_scheduler = torch.optim.lr_scheduler.StepLR(optimizer, step_size=3, gamma=0.1)"
      ]
    },
    {
      "cell_type": "code",
      "execution_count": null,
      "metadata": {
        "id": "at-h4OWK0aoc"
      },
      "outputs": [],
      "source": [
        "num_epochs = 10\n",
        "\n",
        "for epoch in range(num_epochs):\n",
        "    model.train()\n",
        "\n",
        "    for images, targets in data_loader:\n",
        "        # print(images, targets)    \n",
        "        images = list(image.to(device) for image in images)\n",
        "        targets = [{k: v.to(device) for k, v in t.items()} for t in targets]\n",
        "\n",
        "        # during training the model's output is a dictionary with losses        \n",
        "        loss_dict = model(images, targets)\n",
        "        print(loss_dict)\n",
        "        loss = sum(loss for loss in loss_dict.values())\n",
        "\n",
        "        optimizer.zero_grad()\n",
        "        loss.backward()\n",
        "        optimizer.step()\n",
        "\n",
        "    lr_scheduler.step()\n",
        "    evaluate(model, data_loader_test, device=device)"
      ]
    },
    {
      "cell_type": "code",
      "execution_count": null,
      "metadata": {
        "id": "Rj9yjUBx_UGP"
      },
      "outputs": [],
      "source": [
        "img, _ = dataset_test[11]\n",
        "to_pil = T.ToPILImage()\n",
        "img = to_pil(img)\n",
        "img.save(\"img.jpeg\", \"JPEG\")\n",
        "\n",
        "from PIL import Image, ImageFont, ImageDraw, ImageEnhance\n",
        "import torchvision.transforms as T\n",
        "\n",
        "img = Image.open('img.jpeg').convert('RGB')\n",
        "\n",
        "\n",
        "preprocess = T.ToTensor()\n",
        "\n",
        "x = preprocess(img)\n",
        "\n",
        "draw = ImageDraw.Draw(img)\n",
        "\n",
        "model.eval()\n",
        "with torch.no_grad():\n",
        "    prediction = model([x.to(device)])\n",
        "\n",
        "for box in enumerate(prediction[0]['boxes']):\n",
        "  print(box)\n",
        "  draw.rectangle(((box[0], box[1]), (box[2], box[3])), outline=\"red\", width=3)\n",
        "\n",
        "Image.fromarray(preprocess(img).mul(255).permute(1, 2, 0).byte().numpy())\n",
        "# source_img.save(out_file, \"JPEG\")"
      ]
    },
    {
      "cell_type": "code",
      "execution_count": null,
      "metadata": {
        "id": "MZx8lD7GyseP"
      },
      "outputs": [],
      "source": [
        "torch.save(model.state_dict(), 'weights.pth')"
      ]
    }
  ],
  "metadata": {
    "colab": {
      "collapsed_sections": [],
      "name": "training pedestrian net.ipynb",
      "provenance": []
    },
    "kernelspec": {
      "display_name": "Python 3",
      "language": "python",
      "name": "python3"
    },
    "language_info": {
      "codemirror_mode": {
        "name": "ipython",
        "version": 3
      },
      "file_extension": ".py",
      "mimetype": "text/x-python",
      "name": "python",
      "nbconvert_exporter": "python",
      "pygments_lexer": "ipython3",
      "version": "3.6.4"
    }
  },
  "nbformat": 4,
  "nbformat_minor": 0
}